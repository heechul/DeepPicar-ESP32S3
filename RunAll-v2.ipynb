{
 "cells": [
  {
   "cell_type": "markdown",
   "metadata": {},
   "source": [
    "<a target=\"_blank\" href=\"https://colab.research.google.com/github/heechul/DeepPicar-v3/blob/devel/RunAll.ipynb\">\n",
    "        <img src=\"https://i.ibb.co/2P3SLwK/colab.png\"  style=\"padding-bottom:5px;\" />Run in Google Colab</a>"
   ]
  },
  {
   "cell_type": "code",
   "execution_count": 2,
   "metadata": {},
   "outputs": [
    {
     "name": "stdout",
     "output_type": "stream",
     "text": [
      "2.14.0\n"
     ]
    }
   ],
   "source": [
    "import tensorflow as tf\n",
    "\n",
    "import cv2\n",
    "import numpy as np\n",
    "import matplotlib.pyplot as plt\n",
    "from tqdm import tqdm\n",
    "from pandas import read_csv\n",
    "from sklearn.model_selection import train_test_split\n",
    "from sklearn.utils import class_weight\n",
    "\n",
    "import math\n",
    "# from skimage import data\n",
    "from skimage import io\n",
    "from skimage.exposure import match_histograms\n",
    "print(tf.__version__)\n"
   ]
  },
  {
   "cell_type": "code",
   "execution_count": 33,
   "metadata": {},
   "outputs": [
    {
     "name": "stdout",
     "output_type": "stream",
     "text": [
      "use_int8:  True\n",
      "use_finetuning:  False\n"
     ]
    }
   ],
   "source": [
    "\n",
    "use_int8 = True  # use int8 input tensor\n",
    "use_finetuning = False # use fine tuning after loading initial weights, instead of trainig from scratch\n",
    "\n",
    "print(\"use_int8: \", use_int8)\n",
    "print(\"use_finetuning: \", use_finetuning)"
   ]
  },
  {
   "cell_type": "code",
   "execution_count": 4,
   "metadata": {},
   "outputs": [
    {
     "name": "stdout",
     "output_type": "stream",
     "text": [
      "model: models/opt-k2-80x60x3-T1\n"
     ]
    }
   ],
   "source": [
    "# input image resolution to the DNN model (smaller than the original dataset image resolution: 320x240x3)\n",
    "img_width = 80\n",
    "img_height = 60\n",
    "img_channels = 3\n",
    "temporal_context = 1  # number of past images to be used as input to the model\n",
    "mode = \"resize\"  # \"crop\" or \"resize\n",
    "model_name = \"opt-k2\"\n",
    "model_file = \"models/{}-{}x{}x{}-T{}\".format(model_name, img_width, img_height, img_channels, temporal_context)\n",
    "\n",
    "print(\"model:\", model_file)"
   ]
  },
  {
   "cell_type": "code",
   "execution_count": 35,
   "metadata": {},
   "outputs": [
    {
     "name": "stdout",
     "output_type": "stream",
     "text": [
      "not in colab\n"
     ]
    }
   ],
   "source": [
    "import requests \n",
    "import os\n",
    "import zipfile\n",
    "\n",
    "dataset_dir = \"dataset\"\n",
    "dataset_zipfile = 'labtrack-leftonly-RTCSA22.zip' # 'Dataset-kucsl-Aug2022-zero.zip' # 'labtrack-leftonly-RTCSA22.zip' # 'Dataset.zip'\n",
    "RunningInCOLAB = 'google.colab' in str(get_ipython())\n",
    "force_unzip = False\n",
    "\n",
    "if RunningInCOLAB: \n",
    "    print(\"in colab\")\n",
    "    from google.colab import files\n",
    "    uploaded = files.upload()\n",
    "    for fn in uploaded.keys():\n",
    "        print('User uploaded file \"{name}\" with length {length} bytes'.format(\n",
    "            name=fn, length=len(uploaded[fn])))\n",
    "        dataset_zipfile = fn  # expecting a zip file to be uploaded. \n",
    "else:\n",
    "    print (\"not in colab\")\n",
    "    # RPI_IP=None # replace this with the IP address of your raspberry pi \n",
    "    # if RPI_IP is not None:\n",
    "    #     URL=\"http://\"+RPI_IP+\":8000/\"+dataset_zipfile\n",
    "    #     filename=URL.split('/')[-1]\n",
    "    #     r = requests.get(URL)\n",
    "    #     open(filename, 'wb').write(r.content)\n",
    "\n",
    "# if not os.path.isfile(dataset_zipfile):\n",
    "#     default_dataset_URL = \"https://raw.githubusercontent.com/heechul/DeepPicar-v3/devel/Dataset-kucsl-Apr2022.zip\"    \n",
    "#     print (\"No existing dataset. download from \", default_dataset_URL)\n",
    "#     r = requests.get(default_dataset_URL)\n",
    "#     open(dataset_zipfile, 'wb').write(r.content)\n",
    "\n",
    "if not os.path.isdir(dataset_dir) or force_unzip==True:\n",
    "    print ('unzip %s into %s folder' % (dataset_zipfile, dataset_dir))\n",
    "    zip_ref = zipfile.ZipFile(dataset_zipfile)\n",
    "    zip_ref.extractall(dataset_dir)"
   ]
  },
  {
   "cell_type": "code",
   "execution_count": 36,
   "metadata": {},
   "outputs": [
    {
     "name": "stdout",
     "output_type": "stream",
     "text": [
      "dataset/out-video-t50-ittc-right-01.avi dataset/out-key-t50-ittc-right-01.csv\n",
      "1000 1000\n",
      "dataset/out-video-t50-ittc-right-00.avi dataset/out-key-t50-ittc-right-00.csv\n",
      "2000 2000\n",
      "dataset/out-video-t50-ittc-right-02.avi dataset/out-key-t50-ittc-right-02.csv\n",
      "3000 3000\n",
      "dataset/out-video-t50-ittc-right-03.avi dataset/out-key-t50-ittc-right-03.csv\n",
      "4000 4000\n",
      "dataset/out-video-t50-ittc-right-04.avi dataset/out-key-t50-ittc-right-04.csv\n",
      "5000 5000\n",
      "dataset/out-video-t50-ittc-right-05.avi dataset/out-key-t50-ittc-right-05.csv\n",
      "6000 6000\n",
      "dataset/out-video-t50-ittc-left-03.avi dataset/out-key-t50-ittc-left-03.csv\n",
      "7000 7000\n",
      "dataset/out-video-t50-ittc-left-02.avi dataset/out-key-t50-ittc-left-02.csv\n",
      "8000 8000\n",
      "dataset/out-video-t50-ittc-left-00.avi dataset/out-key-t50-ittc-left-00.csv\n",
      "9000 9000\n",
      "dataset/out-video-t50-ittc-left-01.avi dataset/out-key-t50-ittc-left-01.csv\n",
      "10000 10000\n",
      "dataset/out-video-t50-ittc-left-05.avi dataset/out-key-t50-ittc-left-05.csv\n",
      "11000 11000\n",
      "dataset/out-video-t50-ittc-left-04.avi dataset/out-key-t50-ittc-left-04.csv\n",
      "12000 12000\n",
      "Loaded 12000 smaples\n"
     ]
    }
   ],
   "source": [
    "# Train/test data lists\n",
    "imgs = []\n",
    "vals = []\n",
    "\n",
    "def rad2deg(rad):\n",
    "    return 180.0 * rad / math.pi\n",
    "def deg2rad(deg):\n",
    "    return math.pi * deg / 180.0\n",
    "\n",
    "# Scale the image to the model input size\n",
    "def get_image_resize(img):\n",
    "    orig_h, orig_w, orig_c = img.shape\n",
    "    scaled_img = cv2.resize(img, (img_width, img_height), interpolation=cv2.INTER_NEAREST) \n",
    "                    # INTER_NEAREST (one implemented in the esp32-s3), \n",
    "                    # INTER_LINEAR, INTER_AREA (default), INTER_CUBIC, INTER_LANCZOS4\n",
    "\n",
    "    # scale_x = int(orig_w / img_width)\n",
    "    # scale_y = int(orig_h / img_height)\n",
    "\n",
    "    # for i in range(img_height):\n",
    "    #     for j in range(img_width):\n",
    "    #         for k in range(orig_c):\n",
    "    #             if scaled_img[i,j,k] != img[i*scale_y,j*scale_x,k]:\n",
    "    #                 print(\"error\", i, j, k, scaled_img[i,j,k], img[i*scale_y,j*scale_x,k])\n",
    "    return scaled_img\n",
    "\n",
    "# Crop the image to the model input size\n",
    "def get_image_crop(img):\n",
    "    orig_h, orig_w, _ = img.shape\n",
    "    startx = int((orig_w - img_width) * 0.5); # crop from both sides\n",
    "    starty = int((orig_h - img_height) * 0.75); # crop from bottom\n",
    "    return img[starty:starty+img_height, startx:startx+img_width,:]\n",
    "\n",
    "def preprocess(img):\n",
    "    if mode == \"crop\":\n",
    "        img = get_image_crop(img)\n",
    "    elif mode == \"resize\":  \n",
    "        img = get_image_resize(img)\n",
    "    # Convert to grayscale and readd channel dimension\n",
    "    if img_channels == 1:\n",
    "        img = cv2.cvtColor(img, cv2.COLOR_BGR2GRAY)\n",
    "        img = np.reshape(img, (img_height, img_width, img_channels))\n",
    "    if use_int8 == True:\n",
    "        img = (img - 128).astype(np.int8)\n",
    "    else:\n",
    "        img = img.astype(np.float32) / 255.0\n",
    "    return img\n",
    "\n",
    "import glob\n",
    "for vid_file_path in glob.iglob(f'{dataset_dir}/*.avi'):\n",
    "    csv_file_path = vid_file_path.replace('video', 'key').replace('avi', 'csv')\n",
    "    print(vid_file_path, csv_file_path)\n",
    "    vid = cv2.VideoCapture(vid_file_path)\n",
    "    df = read_csv(csv_file_path)\n",
    "\n",
    "    # Read the video and steering angle data\n",
    "    # keep 3 past images for temporal context\n",
    "    temporal_context_buffer = []\n",
    "\n",
    "    for val in df[\"wheel\"].values:\n",
    "        ret,img = vid.read()\n",
    "        img = preprocess(img)\n",
    "\n",
    "        # add temporal context to the input image\n",
    "        temporal_context_buffer.append(img)\n",
    "        if len(temporal_context_buffer) < temporal_context:\n",
    "            for i in range(temporal_context - len(temporal_context_buffer)):\n",
    "                temporal_context_buffer.append(img)\n",
    "        elif len(temporal_context_buffer) > temporal_context:\n",
    "            temporal_context_buffer.pop(0)   \n",
    "\n",
    "        img = np.concatenate(temporal_context_buffer, axis=2)\n",
    "        # print (img.shape)\n",
    "        imgs.append(img)\n",
    "        vals.append(val)\n",
    "    print(len(imgs), len(vals))\n",
    "\n",
    "# Convert lists to numpy arrays and ensure they are of equal length    \n",
    "imgs = np.asarray(imgs)  # input images\n",
    "vals = np.asarray(vals)  # steering angles\n",
    "assert len(imgs) == len(vals)\n",
    "print(\"Loaded {} smaples\".format(len(imgs)))"
   ]
  },
  {
   "cell_type": "code",
   "execution_count": 37,
   "metadata": {},
   "outputs": [
    {
     "name": "stdout",
     "output_type": "stream",
     "text": [
      "Train/Test\n",
      "class_weights [1.95439739 0.49817336 2.07900208]\n",
      "class_weights {0: 1.9543973941368078, 1: 0.4981733643307871, 2: 2.079002079002079}\n"
     ]
    }
   ],
   "source": [
    "# Split the dataset for train and test \n",
    "print(\"Train/Test\")\n",
    "x_train, x_test, y_train, y_test = train_test_split(imgs, vals, test_size=0.25)\n",
    "\n",
    "class_weights = class_weight.compute_class_weight(class_weight='balanced', classes=np.unique(y_train), y=y_train)\n",
    "print(\"class_weights\", class_weights)\n",
    "class_weights = {i:class_weights[i] for i in range(len(class_weights))}\n",
    "print(\"class_weights\", class_weights)"
   ]
  },
  {
   "cell_type": "code",
   "execution_count": 38,
   "metadata": {},
   "outputs": [
    {
     "data": {
      "text/plain": [
       "9000"
      ]
     },
     "execution_count": 38,
     "metadata": {},
     "output_type": "execute_result"
    }
   ],
   "source": [
    "len(x_train)"
   ]
  },
  {
   "cell_type": "code",
   "execution_count": 39,
   "metadata": {},
   "outputs": [
    {
     "name": "stdout",
     "output_type": "stream",
     "text": [
      "Model: \"sequential_2\"\n",
      "_________________________________________________________________\n",
      " Layer (type)                Output Shape              Param #   \n",
      "=================================================================\n",
      " conv2d_10 (Conv2D)          (None, 14, 19, 24)        672       \n",
      "                                                                 \n",
      " conv2d_11 (Conv2D)          (None, 6, 9, 36)          7812      \n",
      "                                                                 \n",
      " conv2d_12 (Conv2D)          (None, 3, 4, 48)          6960      \n",
      "                                                                 \n",
      " conv2d_13 (Conv2D)          (None, 2, 3, 64)          12352     \n",
      "                                                                 \n",
      " conv2d_14 (Conv2D)          (None, 1, 2, 64)          16448     \n",
      "                                                                 \n",
      " flatten_2 (Flatten)         (None, 128)               0         \n",
      "                                                                 \n",
      " dropout_8 (Dropout)         (None, 128)               0         \n",
      "                                                                 \n",
      " dense_6 (Dense)             (None, 100)               12900     \n",
      "                                                                 \n",
      " dropout_9 (Dropout)         (None, 100)               0         \n",
      "                                                                 \n",
      " dense_7 (Dense)             (None, 50)                5050      \n",
      "                                                                 \n",
      " dropout_10 (Dropout)        (None, 50)                0         \n",
      "                                                                 \n",
      " dense_8 (Dense)             (None, 10)                510       \n",
      "                                                                 \n",
      " dropout_11 (Dropout)        (None, 10)                0         \n",
      "                                                                 \n",
      " output (Dense)              (None, 1)                 11        \n",
      "                                                                 \n",
      "=================================================================\n",
      "Total params: 62715 (244.98 KB)\n",
      "Trainable params: 62715 (244.98 KB)\n",
      "Non-trainable params: 0 (0.00 Byte)\n",
      "_________________________________________________________________\n"
     ]
    }
   ],
   "source": [
    "from keras import layers\n",
    "import tensorflow_hub as hub\n",
    "import tensorflow_datasets as tfds\n",
    "\n",
    "model = tf.keras.Sequential()\n",
    "\n",
    "l1_stride = 2\n",
    "l2_stride = 2\n",
    "l3_stride = 2\n",
    "l1_kernel = (5,5)\n",
    "l2_kernel = (5,5)\n",
    "l3_kernel = (5,5)\n",
    "l4_kernel = (3,3)\n",
    "l5_kernel = (3,3)\n",
    "\n",
    "if model_name == \"opt-k2\":\n",
    "    if img_width == 160:\n",
    "        l1_stride = 3\n",
    "    elif img_width == 80:\n",
    "        l5_kernel = (2,2)\n",
    "    elif img_width == 40:\n",
    "        l1_kernel = (3,3)\n",
    "        l2_kernel = (3,3)\n",
    "        l3_kernel = (2,2)\n",
    "        l4_kernel = (2,2)\n",
    "        l5_kernel = (2,2)\n",
    "else:\n",
    "    if img_width == 160:\n",
    "        pass\n",
    "    elif img_width == 80:\n",
    "        l3_stride = 1\n",
    "    elif img_width == 40:\n",
    "        l2_stride = 1\n",
    "        l3_stride = 1\n",
    "\n",
    "model.add(layers.Conv2D(24, l1_kernel, strides=(l1_stride, l1_stride), activation='relu', input_shape=(img_height,img_width,img_channels*temporal_context)))\n",
    "model.add(layers.Conv2D(36, l2_kernel, strides=(l2_stride, l2_stride), activation='relu'))\n",
    "model.add(layers.Conv2D(48, l3_kernel, strides=(l3_stride, l3_stride), activation='relu'))\n",
    "model.add(layers.Conv2D(64, l4_kernel, activation='relu'))\n",
    "model.add(layers.Conv2D(64, l5_kernel, activation='relu'))\n",
    "model.add(layers.Flatten())\n",
    "\n",
    "model.add(layers.Dropout(0.4))\n",
    "model.add(layers.Dense(100, activation='relu'))\n",
    "model.add(layers.Dropout(0.3))\n",
    "model.add(layers.Dense(50, activation='relu'))\n",
    "model.add(layers.Dropout(0.2))\n",
    "model.add(layers.Dense(10, activation='relu'))\n",
    "model.add(layers.Dropout(0.2))\n",
    "model.add(layers.Dense(1, name=\"output\", activation='tanh'))\n",
    "\n",
    "model.summary()"
   ]
  },
  {
   "cell_type": "code",
   "execution_count": 40,
   "metadata": {},
   "outputs": [
    {
     "name": "stdout",
     "output_type": "stream",
     "text": [
      "layer name, output shape, MACs, FLOPs\n",
      "conv2d_10 (None, 14, 19, 24) 172368 344736\n",
      "conv2d_11 (None, 6, 9, 36) 419904 839808\n",
      "conv2d_12 (None, 3, 4, 48) 82944 165888\n",
      "conv2d_13 (None, 2, 3, 64) 73728 147456\n",
      "conv2d_14 (None, 1, 2, 64) 32768 65536\n",
      "flatten_2 (None, 128) 0 0\n",
      "dense_6 (None, 100) 12800 25600\n",
      "dense_7 (None, 50) 5000 10000\n",
      "dense_8 (None, 10) 500 1000\n",
      "output (None, 1) 10 20\n",
      "MACs:  800022\n"
     ]
    }
   ],
   "source": [
    "# a function to calculate MACs and FLOPs of the model\n",
    "def calc_MAC_FLOPs(model):\n",
    "    MACs = 0\n",
    "    FLOPs = 0\n",
    "    print (\"layer name, output shape, MACs, FLOPs\")\n",
    "    for layer in model.layers:\n",
    "        if isinstance(layer, layers.Conv2D):\n",
    "            _, Ho, Wo, Co = layer.output_shape # batch, height, width, channels\n",
    "            Kh, Kw, Ci, _ = layer.kernel.shape # kernel height, kernel width, input channels, output channels\n",
    "            mac = Ho * Wo * Co * Kh * Kw * Ci\n",
    "            flop = 2 * mac\n",
    "        elif isinstance(layer, layers.Dense):\n",
    "            _, Co = layer.output_shape # batch, output channels\n",
    "            Ci, _ = layer.kernel.shape # input channels, output channels\n",
    "            mac = Ci * Co\n",
    "            flop = 2 * mac\n",
    "        elif isinstance(layer, layers.Flatten):\n",
    "            mac = 0\n",
    "            flop = 0\n",
    "        elif isinstance(layer, layers.Dropout):\n",
    "            # skip dropout layer\n",
    "            continue\n",
    "        else:\n",
    "            raise Exception(\"unknown layer type\")\n",
    "        MACs += mac\n",
    "        FLOPs += flop\n",
    "        print(layer.name, layer.output_shape, mac, flop)\n",
    "\n",
    "    return MACs, FLOPs\n",
    "\n",
    "macs, _ = calc_MAC_FLOPs(model)\n",
    "print(\"MACs: \", macs)"
   ]
  },
  {
   "cell_type": "code",
   "execution_count": 41,
   "metadata": {},
   "outputs": [
    {
     "name": "stdout",
     "output_type": "stream",
     "text": [
      "Quantize Model\n",
      "Model compile\n",
      "Model: \"sequential_2\"\n",
      "_________________________________________________________________\n",
      " Layer (type)                Output Shape              Param #   \n",
      "=================================================================\n",
      " quantize_layer_2 (Quantize  (None, 30, 40, 3)         3         \n",
      " Layer)                                                          \n",
      "                                                                 \n",
      " quant_conv2d_10 (QuantizeW  (None, 14, 19, 24)        723       \n",
      " rapperV2)                                                       \n",
      "                                                                 \n",
      " quant_conv2d_11 (QuantizeW  (None, 6, 9, 36)          7887      \n",
      " rapperV2)                                                       \n",
      "                                                                 \n",
      " quant_conv2d_12 (QuantizeW  (None, 3, 4, 48)          7059      \n",
      " rapperV2)                                                       \n",
      "                                                                 \n",
      " quant_conv2d_13 (QuantizeW  (None, 2, 3, 64)          12483     \n",
      " rapperV2)                                                       \n",
      "                                                                 \n",
      " quant_conv2d_14 (QuantizeW  (None, 1, 2, 64)          16579     \n",
      " rapperV2)                                                       \n",
      "                                                                 \n",
      " quant_flatten_2 (QuantizeW  (None, 128)               1         \n",
      " rapperV2)                                                       \n",
      "                                                                 \n",
      " quant_dropout_8 (QuantizeW  (None, 128)               1         \n",
      " rapperV2)                                                       \n",
      "                                                                 \n",
      " quant_dense_6 (QuantizeWra  (None, 100)               12905     \n",
      " pperV2)                                                         \n",
      "                                                                 \n",
      " quant_dropout_9 (QuantizeW  (None, 100)               1         \n",
      " rapperV2)                                                       \n",
      "                                                                 \n",
      " quant_dense_7 (QuantizeWra  (None, 50)                5055      \n",
      " pperV2)                                                         \n",
      "                                                                 \n",
      " quant_dropout_10 (Quantize  (None, 50)                1         \n",
      " WrapperV2)                                                      \n",
      "                                                                 \n",
      " quant_dense_8 (QuantizeWra  (None, 10)                515       \n",
      " pperV2)                                                         \n",
      "                                                                 \n",
      " quant_dropout_11 (Quantize  (None, 10)                1         \n",
      " WrapperV2)                                                      \n",
      "                                                                 \n",
      " quant_output (QuantizeWrap  (None, 1)                 16        \n",
      " perV2)                                                          \n",
      "                                                                 \n",
      "=================================================================\n",
      "Total params: 63230 (246.99 KB)\n",
      "Trainable params: 62715 (244.98 KB)\n",
      "Non-trainable params: 515 (2.01 KB)\n",
      "_________________________________________________________________\n"
     ]
    }
   ],
   "source": [
    "print(\"Quantize Model\")\n",
    "import tensorflow_model_optimization as tfmot\n",
    "\n",
    "quantize_model = tfmot.quantization.keras.quantize_model\n",
    "q_aware_model = quantize_model(model)\n",
    "\n",
    "print (\"Model compile\")\n",
    "q_aware_model.compile(optimizer=tf.keras.optimizers.legacy.Adam(3e-4),\n",
    "\t\t                loss=tf.keras.losses.MeanSquaredError())\n",
    "q_aware_model.summary()"
   ]
  },
  {
   "cell_type": "code",
   "execution_count": 42,
   "metadata": {},
   "outputs": [
    {
     "name": "stdout",
     "output_type": "stream",
     "text": [
      "Model fit\n",
      "Epoch 1/30\n",
      "71/71 [==============================] - 2s 17ms/step - loss: 0.1132 - val_loss: 0.0840\n",
      "Epoch 2/30\n",
      "71/71 [==============================] - 1s 12ms/step - loss: 0.0881 - val_loss: 0.0757\n",
      "Epoch 3/30\n",
      "71/71 [==============================] - 1s 12ms/step - loss: 0.0807 - val_loss: 0.0666\n",
      "Epoch 4/30\n",
      "71/71 [==============================] - 1s 13ms/step - loss: 0.0761 - val_loss: 0.0609\n",
      "Epoch 5/30\n",
      "71/71 [==============================] - 1s 14ms/step - loss: 0.0704 - val_loss: 0.0585\n",
      "Epoch 6/30\n",
      "71/71 [==============================] - 1s 12ms/step - loss: 0.0685 - val_loss: 0.0564\n",
      "Epoch 7/30\n",
      "71/71 [==============================] - 1s 13ms/step - loss: 0.0638 - val_loss: 0.0556\n",
      "Epoch 8/30\n",
      "71/71 [==============================] - 1s 13ms/step - loss: 0.0631 - val_loss: 0.0514\n",
      "Epoch 9/30\n",
      "71/71 [==============================] - 1s 12ms/step - loss: 0.0617 - val_loss: 0.0521\n",
      "Epoch 10/30\n",
      "71/71 [==============================] - 1s 12ms/step - loss: 0.0585 - val_loss: 0.0553\n",
      "Epoch 11/30\n",
      "71/71 [==============================] - 1s 12ms/step - loss: 0.0565 - val_loss: 0.0500\n",
      "Epoch 12/30\n",
      "71/71 [==============================] - 1s 12ms/step - loss: 0.0547 - val_loss: 0.0496\n",
      "Epoch 13/30\n",
      "71/71 [==============================] - 1s 12ms/step - loss: 0.0536 - val_loss: 0.0487\n",
      "Epoch 14/30\n",
      "71/71 [==============================] - 1s 12ms/step - loss: 0.0531 - val_loss: 0.0449\n",
      "Epoch 15/30\n",
      "71/71 [==============================] - 1s 12ms/step - loss: 0.0520 - val_loss: 0.0454\n",
      "Epoch 16/30\n",
      "71/71 [==============================] - 1s 12ms/step - loss: 0.0509 - val_loss: 0.0446\n",
      "Epoch 17/30\n",
      "71/71 [==============================] - 1s 12ms/step - loss: 0.0498 - val_loss: 0.0478\n",
      "Epoch 18/30\n",
      "71/71 [==============================] - 1s 12ms/step - loss: 0.0485 - val_loss: 0.0444\n",
      "Epoch 19/30\n",
      "71/71 [==============================] - 1s 12ms/step - loss: 0.0462 - val_loss: 0.0446\n",
      "Epoch 20/30\n",
      "71/71 [==============================] - 1s 12ms/step - loss: 0.0469 - val_loss: 0.0422\n",
      "Epoch 21/30\n",
      "71/71 [==============================] - 1s 12ms/step - loss: 0.0463 - val_loss: 0.0450\n",
      "Epoch 22/30\n",
      "71/71 [==============================] - 1s 12ms/step - loss: 0.0462 - val_loss: 0.0425\n",
      "Epoch 23/30\n",
      "71/71 [==============================] - 1s 12ms/step - loss: 0.0446 - val_loss: 0.0419\n",
      "Epoch 24/30\n",
      "71/71 [==============================] - 1s 12ms/step - loss: 0.0443 - val_loss: 0.0434\n",
      "Epoch 25/30\n",
      "71/71 [==============================] - 1s 12ms/step - loss: 0.0441 - val_loss: 0.0423\n",
      "Epoch 26/30\n",
      "71/71 [==============================] - 1s 12ms/step - loss: 0.0435 - val_loss: 0.0423\n",
      "Epoch 27/30\n",
      "71/71 [==============================] - 1s 12ms/step - loss: 0.0425 - val_loss: 0.0403\n",
      "Epoch 28/30\n",
      "71/71 [==============================] - 1s 12ms/step - loss: 0.0418 - val_loss: 0.0413\n",
      "Epoch 29/30\n",
      "71/71 [==============================] - 1s 12ms/step - loss: 0.0420 - val_loss: 0.0431\n",
      "Epoch 30/30\n",
      "71/71 [==============================] - 1s 12ms/step - loss: 0.0401 - val_loss: 0.0406\n",
      "dict_keys(['loss', 'val_loss'])\n"
     ]
    },
    {
     "data": {
      "image/png": "[encoded data removed]",
      "text/plain": [
       "<Figure size 640x480 with 1 Axes>"
      ]
     },
     "metadata": {},
     "output_type": "display_data"
    }
   ],
   "source": [
    "# class_weights = class_weight.compute_class_weight(class_weight='balanced', classes=np.unique(y_train), y=y_train)\n",
    "# class_weights = {i:class_weights[i] for i in range(len(class_weights))}\n",
    "# print(\"class_weights\", class_weights)\n",
    "\n",
    "if use_finetuning:\n",
    "    q_aware_model.load_weights(model_file + \".h5\")\n",
    "    print(\"loaded weights from\", model_file + \".h5\")\n",
    "    n_epochs = 5\n",
    "else:\n",
    "    n_epochs = 30\n",
    "\n",
    "# Continue with the rest of the code\n",
    "print (\"Model fit\")\n",
    "# q_aware_model.reset_states()\n",
    "history = q_aware_model.fit(x_train, y_train, batch_size=128,\n",
    "                    epochs=n_epochs, validation_data=(x_test, y_test))\n",
    "\n",
    "# Plot training and validation losses \n",
    "print(history.history.keys())\n",
    "plt.plot(history.history['loss'])\n",
    "plt.plot(history.history['val_loss'])\n",
    "plt.title('model loss')\n",
    "plt.ylabel('loss')\n",
    "plt.xlabel('epoch')\n",
    "plt.legend(['train', 'test'], loc='upper left')\n",
    "plt.show() "
   ]
  },
  {
   "cell_type": "code",
   "execution_count": 43,
   "metadata": {},
   "outputs": [
    {
     "name": "stdout",
     "output_type": "stream",
     "text": [
      "94/94 [==============================] - 0s 2ms/step\n",
      "Accuracy is 0.816\n"
     ]
    }
   ],
   "source": [
    "angle_thresh=10\n",
    "# Helper functions for evaluating model accuracy\n",
    "\n",
    "def get_action(angle_rad):\n",
    "  degree = rad2deg(angle_rad)\n",
    "  if degree < angle_thresh and degree > -angle_thresh:\n",
    "    return \"center\"\n",
    "  elif degree >= angle_thresh:\n",
    "    return \"right\" \n",
    "  elif degree <-angle_thresh:\n",
    "    return \"left\"\n",
    "\n",
    "pred_angle = q_aware_model.predict(x_test)\n",
    "pred = np.array(list(map(get_action, pred_angle)))\n",
    "ground = np.array(list(map(get_action, y_test)))\n",
    "print('Accuracy is %.3f' % np.mean(pred == ground))"
   ]
  },
  {
   "cell_type": "markdown",
   "metadata": {},
   "source": [
    "visualization"
   ]
  },
  {
   "cell_type": "code",
   "execution_count": 44,
   "metadata": {},
   "outputs": [],
   "source": [
    "def plot_image(i, prediction_array, groundtrue_array, img_array):\n",
    "  angle, predicted_label, groundtrue_label, img = int(rad2deg(pred_angle[i])), prediction_array[i], groundtrue_array[i], img_array[i]\n",
    "  plt.grid(True)\n",
    "  plt.xticks([])\n",
    "  plt.yticks([])\n",
    "  if use_int8 == True:\n",
    "    img = np.round((img + 128.0) / 255.0, 2)\n",
    "  else:\n",
    "    img = np.squeeze(img)\n",
    "  \n",
    "  img_buffer = []\n",
    "  for i in range(temporal_context):\n",
    "    img_buffer.append(img[:,:,i*3:(i+1)*3])\n",
    "  img = np.concatenate(img_buffer, axis=1)\n",
    "  plt.imshow(img, cmap=plt.cm.binary)\n",
    "  if predicted_label == groundtrue_label:\n",
    "    color = 'green'\n",
    "  else:\n",
    "    color = 'red'  \n",
    "  plt.xlabel(\"Predict:{} ({}) Actual:{}\".format(predicted_label,angle,groundtrue_label), color=color)"
   ]
  },
  {
   "cell_type": "code",
   "execution_count": 45,
   "metadata": {},
   "outputs": [
    {
     "data": {
      "image/png": "[encoded data removed]",
      "text/plain": [
       "<Figure size 1000x300 with 2 Axes>"
      ]
     },
     "metadata": {},
     "output_type": "display_data"
    },
    {
     "data": {
      "image/png": "[encoded data removed]",
      "text/plain": [
       "<Figure size 1000x300 with 2 Axes>"
      ]
     },
     "metadata": {},
     "output_type": "display_data"
    },
    {
     "data": {
      "image/png": "[encoded data removed]",
      "text/plain": [
       "<Figure size 1000x300 with 2 Axes>"
      ]
     },
     "metadata": {},
     "output_type": "display_data"
    }
   ],
   "source": [
    "#@title Visualize the outputs { run: \"auto\" }\n",
    "index = 1000 #@param {type:\"slider\", min:0, max:244, step:6}\n",
    "for i in range(3):\n",
    "  plt.figure(figsize=(10,3))\n",
    "  plt.subplot(1,2,1)\n",
    "  plot_image(index + 2*i, pred, ground, x_test)\n",
    "  plt.subplot(1,2,2)\n",
    "  plot_image(index + 2*i+1, pred, ground, x_test)\n",
    "  plt.show()"
   ]
  },
  {
   "cell_type": "markdown",
   "metadata": {},
   "source": [
    "generate image cpp files for testing"
   ]
  },
  {
   "cell_type": "code",
   "execution_count": 46,
   "metadata": {},
   "outputs": [
    {
     "name": "stdout",
     "output_type": "stream",
     "text": [
      "Model Save\n",
      "TFLite Model\n",
      "Using int8 quantization\n"
     ]
    },
    {
     "name": "stderr",
     "output_type": "stream",
     "text": [
      "/opt/homebrew/lib/python3.11/site-packages/keras/src/engine/training.py:3079: UserWarning: You are saving your model as an HDF5 file via `model.save()`. This file format is considered legacy. We recommend using instead the native Keras format, e.g. `model.save('my_model.keras')`.\n",
      "  saving_api.save_model(\n"
     ]
    },
    {
     "name": "stdout",
     "output_type": "stream",
     "text": [
      "INFO:tensorflow:Assets written to: /var/folders/2_/kskwshj16hqb0586p6cydg4h0000gq/T/tmpkhp084kj/assets\n"
     ]
    },
    {
     "name": "stderr",
     "output_type": "stream",
     "text": [
      "INFO:tensorflow:Assets written to: /var/folders/2_/kskwshj16hqb0586p6cydg4h0000gq/T/tmpkhp084kj/assets\n",
      "/opt/homebrew/lib/python3.11/site-packages/tensorflow/lite/python/convert.py:947: UserWarning: Statistics for quantized inputs were expected, but not specified; continuing anyway.\n",
      "  warnings.warn(\n",
      "2024-01-12 11:01:49.322355: W tensorflow/compiler/mlir/lite/python/tf_tfl_flatbuffer_helpers.cc:378] Ignored output_format.\n",
      "2024-01-12 11:01:49.322370: W tensorflow/compiler/mlir/lite/python/tf_tfl_flatbuffer_helpers.cc:381] Ignored drop_control_dependency.\n"
     ]
    },
    {
     "name": "stdout",
     "output_type": "stream",
     "text": [
      "models/opt-k2-40x30x3-T1.tflite is saved. copy this file to the robot\n"
     ]
    },
    {
     "name": "stderr",
     "output_type": "stream",
     "text": [
      "2024-01-12 11:01:49.322583: I tensorflow/cc/saved_model/reader.cc:83] Reading SavedModel from: /var/folders/2_/kskwshj16hqb0586p6cydg4h0000gq/T/tmpkhp084kj\n",
      "2024-01-12 11:01:49.326447: I tensorflow/cc/saved_model/reader.cc:51] Reading meta graph with tags { serve }\n",
      "2024-01-12 11:01:49.326462: I tensorflow/cc/saved_model/reader.cc:146] Reading SavedModel debug info (if present) from: /var/folders/2_/kskwshj16hqb0586p6cydg4h0000gq/T/tmpkhp084kj\n",
      "2024-01-12 11:01:49.337044: I tensorflow/cc/saved_model/loader.cc:233] Restoring SavedModel bundle.\n",
      "2024-01-12 11:01:49.447383: I tensorflow/cc/saved_model/loader.cc:217] Running initialization op on SavedModel bundle at path: /var/folders/2_/kskwshj16hqb0586p6cydg4h0000gq/T/tmpkhp084kj\n",
      "2024-01-12 11:01:49.480842: I tensorflow/cc/saved_model/loader.cc:316] SavedModel load for tags { serve }; Status: success: OK. Took 158258 microseconds.\n"
     ]
    }
   ],
   "source": [
    "# Save both the Keras and TFLite models      \n",
    "print(\"Model Save\")                  \n",
    "q_aware_model.save(model_file+\".h5\")\n",
    "\n",
    "print(\"TFLite Model\")\n",
    "converter = tf.lite.TFLiteConverter.from_keras_model(q_aware_model)\n",
    "converter.optimizations = [tf.lite.Optimize.DEFAULT]\n",
    "converter.inference_input_type = tf.int8\n",
    "converter.inference_output_type = tf.int8\n",
    "\n",
    "print(\"Using int8 quantization\")\n",
    "\n",
    "quantized_tflite_model = converter.convert()\n",
    "\n",
    "with open(model_file+\".tflite\", 'wb') as f:\n",
    "    f.write(quantized_tflite_model)\n",
    "\n",
    "print (model_file+\".tflite is saved. copy this file to the robot\")\n",
    "\n",
    "if RunningInCOLAB: \n",
    "    from google.colab import files\n",
    "    files.download(model_file+\".tflite\")"
   ]
  },
  {
   "cell_type": "markdown",
   "metadata": {},
   "source": [
    "generate cc file from tflite model"
   ]
  },
  {
   "cell_type": "code",
   "execution_count": 5,
   "metadata": {},
   "outputs": [
    {
     "name": "stdout",
     "output_type": "stream",
     "text": [
      "models/models/opt-k2-80x60x3-T1.cc --> src/model.h\n"
     ]
    }
   ],
   "source": [
    "!xxd -n gmodel -i {model_file}.tflite > {model_file}.cc\n",
    "print (\"models/\"+model_file+\".cc --> src/model.h\")\n",
    "!cat {model_file}.cc | sed \"s/unsigned/const unsigned/g\" > src/model.h"
   ]
  },
  {
   "cell_type": "code",
   "execution_count": 48,
   "metadata": {},
   "outputs": [
    {
     "name": "stdout",
     "output_type": "stream",
     "text": [
      "[-0.11377595]\n",
      "Predicted: center (rad:[-0.11377595], deg:[-6.5188813])\n",
      "Actual:  center\n"
     ]
    },
    {
     "data": {
      "image/png": "[encoded data removed]",
      "text/plain": [
       "<Figure size 640x480 with 1 Axes>"
      ]
     },
     "metadata": {},
     "output_type": "display_data"
    }
   ],
   "source": [
    "idx=100\n",
    "img = x_test[idx]\n",
    "# Write a C source file of the image for debugging purposes (to check if the model output is correct)\n",
    "with open('src/img.h', 'w') as f:\n",
    "    f.write('#ifndef IMG_TEST_DATA\\n')\n",
    "    f.write('#define IMG_TEST_DATA\\n')\n",
    "    f.write('const signed char img_data[] = {')\n",
    "    for i in range(0, len(img.flatten())):\n",
    "        f.write(str(img.flatten()[i]))\n",
    "        if i < len(img.flatten()) - 1:\n",
    "            f.write(',')    \n",
    "    f.write('};\\n')\n",
    "    f.write('#endif\\n')\n",
    "\n",
    "plot_image(idx, pred, ground, x_test)\n",
    "print(pred_angle[idx])\n",
    "print(\"Predicted: {} (rad:{}, deg:{})\".format(get_action(pred_angle[idx]), pred_angle[idx], rad2deg(pred_angle[idx])))\n",
    "print(\"Actual: \", get_action(y_test[idx]))\n",
    "plt.show()"
   ]
  },
  {
   "cell_type": "markdown",
   "metadata": {},
   "source": [
    "### Inference"
   ]
  },
  {
   "cell_type": "code",
   "execution_count": 49,
   "metadata": {},
   "outputs": [
    {
     "name": "stdout",
     "output_type": "stream",
     "text": [
      "test img idx: 100, shape: (30, 40, 3)\n",
      "[-111  -91 -101 ...  -53  -46  -61]\n",
      "input:  <class 'numpy.int8'>\n",
      "output:  <class 'numpy.int8'>\n",
      "scale, zero_point:  0.0078125 0\n",
      "Predicted: center (q:-15, rad:-0.1171875, deg:-6.714349161689335)\n"
     ]
    }
   ],
   "source": [
    "print(\"test img idx: {}, shape: {}\".format(idx, img.shape))\n",
    "print(img.flatten())\n",
    "\n",
    "interpreter = tf.lite.Interpreter(model_content=quantized_tflite_model)\n",
    "interpreter.allocate_tensors()\n",
    "input_index = interpreter.get_input_details()[0][\"index\"]\n",
    "output_index = interpreter.get_output_details()[0][\"index\"]\n",
    "interpreter.set_tensor(input_index, np.expand_dims(img, axis=0))\n",
    "\n",
    "input_type = interpreter.get_input_details()[0]['dtype']\n",
    "print('input: ', input_type)\n",
    "output_type = interpreter.get_output_details()[0]['dtype']\n",
    "print('output: ', output_type)\n",
    "\n",
    "interpreter.invoke()\n",
    "q = interpreter.get_tensor(output_index)[0][0]\n",
    "scale = interpreter.get_output_details()[0]['quantization_parameters']['scales'][0]\n",
    "zero_point = interpreter.get_output_details()[0]['quantization_parameters']['zero_points'][0]\n",
    "print('scale, zero_point: ', scale, zero_point)\n",
    "angle = (q - zero_point) * scale\n",
    "print(\"Predicted: {} (q:{}, rad:{}, deg:{})\".format(get_action(angle), q, angle, rad2deg(angle)))"
   ]
  },
  {
   "cell_type": "code",
   "execution_count": 50,
   "metadata": {},
   "outputs": [
    {
     "name": "stdout",
     "output_type": "stream",
     "text": [
      "Accuracy is 0.818\n",
      "float vs. quantized model same prediction prob: 0.997\n"
     ]
    }
   ],
   "source": [
    "interpreter = tf.lite.Interpreter(model_content=quantized_tflite_model)\n",
    "interpreter.allocate_tensors()\n",
    "\n",
    "input_index = interpreter.get_input_details()[0][\"index\"]\n",
    "output_index = interpreter.get_output_details()[0][\"index\"]\n",
    "scale = interpreter.get_output_details()[0]['quantization_parameters']['scales'][0]\n",
    "zero_point = interpreter.get_output_details()[0]['quantization_parameters']['zero_points'][0]\n",
    "\n",
    "pred_angle_q = []\n",
    "for img in x_test:\n",
    "    interpreter.set_tensor(input_index, np.expand_dims(img, axis=0))\n",
    "    interpreter.invoke()\n",
    "    q = interpreter.get_tensor(output_index)[0][0]\n",
    "    angle = (q - zero_point) * scale\n",
    "    pred_angle_q.append(angle)\n",
    "\n",
    "pred_q = np.array(list(map(get_action, pred_angle_q)))\n",
    "ground = np.array(list(map(get_action, y_test)))\n",
    "print('Accuracy is %.3f' % np.mean(pred_q == ground))\n",
    "print('float vs. quantized model same prediction prob: %.3f' % np.mean(pred_q == pred))"
   ]
  },
  {
   "cell_type": "code",
   "execution_count": 51,
   "metadata": {},
   "outputs": [
    {
     "name": "stdout",
     "output_type": "stream",
     "text": [
      "Accuracy is 0.818\n"
     ]
    }
   ],
   "source": [
    "print('Accuracy is %.3f' % np.mean(pred_q == ground))\n"
   ]
  }
 ],
 "metadata": {
  "kernelspec": {
   "display_name": "Python 3.10.6 64-bit",
   "language": "python",
   "name": "python3"
  },
  "language_info": {
   "codemirror_mode": {
    "name": "ipython",
    "version": 3
   },
   "file_extension": ".py",
   "mimetype": "text/x-python",
   "name": "python",
   "nbconvert_exporter": "python",
   "pygments_lexer": "ipython3",
   "version": "3.11.5"
  },
  "orig_nbformat": 4,
  "vscode": {
   "interpreter": {
    "hash": "b0fa6594d8f4cbf19f97940f81e996739fb7646882a419484c72d19e05852a7e"
   }
  }
 },
 "nbformat": 4,
 "nbformat_minor": 2
}
